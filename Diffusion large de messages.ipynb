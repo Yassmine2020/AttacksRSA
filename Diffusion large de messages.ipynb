{
 "cells": [
  {
   "cell_type": "code",
   "execution_count": 66,
   "metadata": {},
   "outputs": [],
   "source": [
    "def trouver_mu(c_values, n_values, e):\n",
    "    # Utilisation du Théorème des Restes Chinois pour trouver x\n",
    "    x = crt(c_values, n_values)\n",
    "\n",
    "    # Calcul de la racine e-ème de x (x est une puissance parfaite de e)\n",
    "    mu = x.nth_root(e)\n",
    "\n",
    "    return mu\n",
    "\n",
    "## I need to add smthg to calculate the complexity!!\n"
   ]
  },
  {
   "cell_type": "code",
   "execution_count": 67,
   "metadata": {},
   "outputs": [
    {
     "data": {
      "text/plain": [
       "36"
      ]
     },
     "execution_count": 67,
     "metadata": {},
     "output_type": "execute_result"
    }
   ],
   "source": [
    "## Test\n",
    "e = 3\n",
    "mu = 36\n",
    "\n",
    "N=[next_prime(10^30)]\n",
    "C=[ZZ(Zmod(N[0])(mu^e))]\n",
    "\n",
    "for i in range(1,r):\n",
    "    N+=[next_prime(N[i-1])] # Construction des n_i\n",
    "    C+=[ZZ(Zmod(N[i])(mu^e))] # Construction des c_i\n",
    "\n",
    "# print(len(C),len(N))\n",
    "#     n*=N[i] # n est le produits des n_i\n",
    "\n",
    "mu = trouver_mu(C, N, e)\n",
    "mu"
   ]
  },
  {
   "cell_type": "code",
   "execution_count": 78,
   "metadata": {},
   "outputs": [
    {
     "name": "stdout",
     "output_type": "stream",
     "text": [
      "CPU times: user 0 ns, sys: 0 ns, total: 0 ns\n",
      "Wall time: 6.68 µs\n"
     ]
    },
    {
     "data": {
      "text/plain": [
       "(46656,\n",
       " 1000000000000000000000000008304000000000000000000000031364913000000000000000000071336435616000000000000000108997961534661000000000000118167589889831760000000000093564276885888700965000000054846736697647263030720000023857828958186754033719235007640741312859741466581356561767215829170158065124874416464031406321390566614980288269923851788744866685772797058802283888312752314198092656211014935948236621154180837547673320759)"
      ]
     },
     "execution_count": 78,
     "metadata": {},
     "output_type": "execute_result"
    }
   ],
   "source": [
    "### why e=3, 257, 65537\n",
    "\n",
    "# Methode d'exponentiation modulaire rapide\n",
    "\n",
    "def modular_exponentiation(M, e, n):\n",
    "    # Initialisation\n",
    "    R = 1\n",
    "\n",
    "    # Décomposition Binaire de l'Exposant\n",
    "    binary_e = bin(e)[2:]\n",
    "\n",
    "    # Itération sur Chaque Bit de l'Exposant\n",
    "    for bit in binary_e:\n",
    "        R = (R * R) % n  # Toujours effectuer un carré\n",
    "        if bit == '1':\n",
    "            R = (R * M) % n  # Multiplier si le bit courant est 1\n",
    "\n",
    "    return R"
   ]
  },
  {
   "cell_type": "code",
   "execution_count": 85,
   "metadata": {},
   "outputs": [
    {
     "name": "stdout",
     "output_type": "stream",
     "text": [
      "CPU times: user 0 ns, sys: 0 ns, total: 0 ns\n",
      "Wall time: 6.91 µs\n"
     ]
    },
    {
     "data": {
      "text/plain": [
       "(639530794171571307876458174823786261603321152054097469809894337775754899336847800517789542665946259466841258086027911772354992927351585666634276422247349624399146053425841573326994268655184672601386555276505309912118056599545594390115606827396248151316303237134615706112756343211677468996337839865555926186000491868687278935053523630307414258078151175350464774818231884639063747281587224359491310232254704395836836206290,\n",
       " 1000000000000000000000000008304000000000000000000000031364913000000000000000000071336435616000000000000000108997961534661000000000000118167589889831760000000000093564276885888700965000000054846736697647263030720000023857828958186754033719235007640741312859741466581356561767215829170158065124874416464031406321390566614980288269923851788744866685772797058802283888312752314198092656211014935948236621154180837547673320759)"
      ]
     },
     "execution_count": 85,
     "metadata": {},
     "output_type": "execute_result"
    }
   ],
   "source": [
    "# Exemple avec des valeurs par défaut\n",
    "e = 65537\n",
    "mu = 36\n",
    "n = 1\n",
    "\n",
    "for i in range(1,r):\n",
    "     n *= N[i]\n",
    "\n",
    "# Appliquer l'algorithme avec les valeurs par défaut\n",
    "resultat = modular_exponentiation(mu, e, n)\n",
    "%time resultat, n\n",
    "\n",
    "# CPU times: user 0 ns, sys: 0 ns, total: 0 ns\n",
    "# Wall time: 6.44 µs"
   ]
  }
 ],
 "metadata": {
  "kernelspec": {
   "display_name": "SageMath 9.3",
   "language": "sage",
   "name": "sagemath"
  },
  "language_info": {
   "codemirror_mode": {
    "name": "ipython",
    "version": 3
   },
   "file_extension": ".py",
   "mimetype": "text/x-python",
   "name": "python",
   "nbconvert_exporter": "python",
   "pygments_lexer": "ipython3",
   "version": "3.7.10"
  }
 },
 "nbformat": 4,
 "nbformat_minor": 4
}
